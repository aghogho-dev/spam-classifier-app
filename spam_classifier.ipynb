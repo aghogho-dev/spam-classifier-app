{
 "cells": [
  {
   "cell_type": "markdown",
   "id": "8f8ba0f3",
   "metadata": {},
   "source": [
    "## Spam classifier web application"
   ]
  },
  {
   "cell_type": "markdown",
   "id": "a22f26e3",
   "metadata": {},
   "source": [
    "Spam messages are a major problem to individuals and businesses alike. These message clutter up our inboxes and storage spaces. We waste valuable time scanning through them at the risk of missing out on important messages.\n",
    "\n",
    "In this project, I will build Naive Bayes and Neural Network (NN) classifiers to tell spam from non-spam (ham) messages. We will have a web application where we can paste new messages and check whether they are spam or not.\n",
    "\n",
    "The deliverables for this projects are:\n",
    "- 1. A Naive Bayes classifier\n",
    "- 2. A NN classifier\n",
    "- 3. A table of both classifier metrics\n",
    "- 4. A web application to check whether new messages are spam or not"
   ]
  },
  {
   "cell_type": "markdown",
   "id": "229f4299",
   "metadata": {},
   "source": [
    "### 0. Download data and libraries\n",
    "\n",
    "Uncomment to run:"
   ]
  },
  {
   "cell_type": "code",
   "execution_count": 1,
   "id": "f14e2393",
   "metadata": {},
   "outputs": [],
   "source": [
    "# !pip install kaggle\n",
    "# !pip install spacy\n",
    "# !python -m spacy download en_core_web_sm"
   ]
  },
  {
   "cell_type": "markdown",
   "id": "7ffcc626",
   "metadata": {},
   "source": [
    "It's time to get our data. We shall be using the UCI Spam SMS data from Kaggle. We shall get the data with the Kaggle API. So provide  (in the empty strings) your kaggle `username`and kaggle `key`.\n"
   ]
  },
  {
   "cell_type": "code",
   "execution_count": 2,
   "id": "160c3dfe",
   "metadata": {},
   "outputs": [
    {
     "name": "stdout",
     "output_type": "stream",
     "text": [
      "Downloading sms-spam-collection-dataset.zip to C:\\Users\\Ag\\Documents\\Work\\Stevens - Advanced Data Analytics and Machine Learning\\Spam project\\final\n",
      "\n"
     ]
    },
    {
     "name": "stderr",
     "output_type": "stream",
     "text": [
      "\n",
      "  0%|          | 0.00/211k [00:00<?, ?B/s]\n",
      "100%|##########| 211k/211k [00:00<00:00, 730kB/s]\n",
      "100%|##########| 211k/211k [00:00<00:00, 728kB/s]\n"
     ]
    }
   ],
   "source": [
    "# download data\n",
    "import os\n",
    "\n",
    "os.environ['KAGGLE_USERNAME'] = ''   # put your Kaggle username\n",
    "os.environ['KAGGLE_KEY'] = ''        # put your kaggle api key\n",
    "\n",
    "!kaggle datasets download -d uciml/sms-spam-collection-dataset"
   ]
  },
  {
   "cell_type": "code",
   "execution_count": 3,
   "id": "d6da43d2",
   "metadata": {},
   "outputs": [],
   "source": [
    "# Unzip the donwload file and save in the current working directory\n",
    "\n",
    "import zipfile\n",
    "\n",
    "with zipfile.ZipFile('sms-spam-collection-dataset.zip', 'r') as zip_file:\n",
    "    zip_file.extractall('.')"
   ]
  },
  {
   "cell_type": "markdown",
   "id": "aa26ca1b",
   "metadata": {},
   "source": [
    "### 1. Load and preprocess data"
   ]
  },
  {
   "cell_type": "code",
   "execution_count": 4,
   "id": "a66625ed",
   "metadata": {},
   "outputs": [],
   "source": [
    "# Load data as pandas dataframe\n",
    "\n",
    "import pandas as pd\n",
    "from sklearn.model_selection import train_test_split\n",
    "\n",
    "df = pd.read_csv(\n",
    "    'spam.csv', encoding=\"iso-8859-1\", \n",
    "    usecols=[0, 1], names=['target', 'sms'], header=0\n",
    ")"
   ]
  },
  {
   "cell_type": "code",
   "execution_count": 5,
   "id": "34c26710",
   "metadata": {},
   "outputs": [
    {
     "name": "stdout",
     "output_type": "stream",
     "text": [
      "Train set shape: (3900,) (3900,)\n",
      "Test set shape: (1672,) (1672,)\n"
     ]
    }
   ],
   "source": [
    "# Split data into test and train sets\n",
    "\n",
    "X_train, X_test, y_train, y_test = train_test_split(\n",
    "    df['sms'], df['target'], \n",
    "    test_size=0.3, random_state=0\n",
    ")\n",
    "\n",
    "print('Train set shape:', X_train.shape, y_train.shape)\n",
    "print('Test set shape:', X_test.shape, y_test.shape)"
   ]
  },
  {
   "cell_type": "code",
   "execution_count": 6,
   "id": "43b91e44",
   "metadata": {},
   "outputs": [],
   "source": [
    "import spacy\n",
    "import string\n",
    "\n",
    "nlp = spacy.load('en_core_web_sm')\n",
    "\n",
    "def preprocessor(text):\n",
    "    \"\"\"\n",
    "    Performs element-wise operation on a dataframe column\n",
    "    Takes in text, remove stopwords and punctuations\n",
    "    \n",
    "    Returns:\n",
    "        preprocessed text in lower case\n",
    "    \"\"\"\n",
    "    doc = nlp(text)\n",
    "    tokens = [\n",
    "        token.lemma_ for token in doc \\\n",
    "        if not token.is_stop and not token.is_punct\n",
    "    ]\n",
    "    processed_text = ' '.join(tokens)\n",
    "    return processed_text.lower()"
   ]
  },
  {
   "cell_type": "code",
   "execution_count": 7,
   "id": "99f045e9",
   "metadata": {},
   "outputs": [],
   "source": [
    "# Apply preprocessing\n",
    "X_train = X_train.apply(preprocessor)\n",
    "X_test = X_test.apply(preprocessor)"
   ]
  },
  {
   "cell_type": "code",
   "execution_count": 8,
   "id": "58a21d89",
   "metadata": {},
   "outputs": [],
   "source": [
    "# Preprocess the targets, change spam and ham to 1 and 0\n",
    "\n",
    "from sklearn.preprocessing import LabelEncoder\n",
    "\n",
    "label = LabelEncoder()\n",
    "y_train = label.fit_transform(y_train)\n",
    "y_test = label.fit_transform(y_test)"
   ]
  },
  {
   "cell_type": "markdown",
   "id": "358ad7b0",
   "metadata": {},
   "source": [
    "### 2. Naive Bayes Classifier"
   ]
  },
  {
   "cell_type": "markdown",
   "id": "723fa7fe",
   "metadata": {},
   "source": [
    "We shall be using the MultinomialNB algorithm on sklearn. But first, we need to transform the text with the TfidfVectorizer. \n",
    "\n",
    "Most computer algorithm are incapable of processing raw string. So, string new numerical representation. TF-IDF means Term Frequency - Inverse Document Frequency. It is used to capture the importance of words in a collection of texts.\n",
    "\n",
    "<span style=\"border:10pt\"></span>\n",
    "\n",
    "<center style=\"font-size:16pt;border:10pt solid white\"> $ TF = {{number \\ of \\ times \\ the \\ term \\ appears \\ in \\ the \\ corpus} \\over {total \\ number \\ of \\ terms \\ in \\ the\\ corpus}}$ </center>\n",
    "\n",
    "<center style=\"font-size:16pt;border:10pt solid white\">$ IDF = log({{number \\ of \\ the \\ documents \\ in \\ the \\ corpus} \\over {nunmber \\ of \\ documents \\ in \\ the \\ corpus \\ containing \\ the \\ term}}$</center>\n",
    "\n",
    "<center style=\"font-size:16pt\">$ TFIDF = TF * IDF $</center>\n",
    "\n",
    "Let us now apply `TfidfVectorizer`:"
   ]
  },
  {
   "cell_type": "code",
   "execution_count": 9,
   "id": "65d0f9f9",
   "metadata": {},
   "outputs": [],
   "source": [
    "from sklearn.feature_extraction.text import TfidfVectorizer\n",
    "\n",
    "vectorizer_nb = TfidfVectorizer()\n",
    "vectorizer_nb.fit(X_train)\n",
    "\n",
    "X_train_vec = vectorizer_nb.transform(X_train)\n",
    "X_test_vec = vectorizer_nb.transform(X_test)"
   ]
  },
  {
   "cell_type": "markdown",
   "id": "4043d85e",
   "metadata": {},
   "source": [
    "Next, we fit the MultinomialNB. It works as follows:\n",
    "\n",
    "<center style=\"font-size:16pt;border:10pt solid white\">$ P(w_i|spam) = {N_{w_i|spam} + \\alpha \\over {N_{spam} + \\alpha N_{vocab}}}$</center>\n",
    "<center style=\"font-size:16pt;border:10pt solid white\">$ P(w_i|ham) = {N_{w_i|ham} + \\alpha \\over {N_{ham} + \\alpha N_{vocab}}}$</center>\n",
    "\n",
    "$N_{w_i|spam}$ is the number of word $w_i$ in spam; $N_{spam} is the total number of words in spam.\n",
    "\n",
    "$N_{w_i|ham}$ is the number of word $w_i$ in ham; $N_{ham} is the total number of words in ham.\n",
    "\n",
    "$N_{vocab}$ is the total number of words in the training corpus vocabulary and $\\alpha$ is the Laplace or Additive smoothing that we used to avoid zero probabilities when new words not in the vocabulary of the train set is introduced in the test set. Otherwise, the classifier will fail."
   ]
  },
  {
   "cell_type": "code",
   "execution_count": 10,
   "id": "0536a4fc",
   "metadata": {},
   "outputs": [
    {
     "data": {
      "text/plain": [
       "MultinomialNB()"
      ]
     },
     "execution_count": 10,
     "metadata": {},
     "output_type": "execute_result"
    }
   ],
   "source": [
    "# Fit the MultinomialNB\n",
    "\n",
    "from sklearn.naive_bayes import MultinomialNB\n",
    "\n",
    "# Fit model with laplace smoothing alpha = 1.0\n",
    "mnb = MultinomialNB(alpha=1.0, fit_prior=True)\n",
    "mnb.fit(X_train_vec, y_train)"
   ]
  },
  {
   "cell_type": "markdown",
   "id": "f84ea3a3",
   "metadata": {},
   "source": [
    "After fitting the model, we have to make prediction on the test set. Since there are two classes, ham and spam, our predictions will be `ham = 0` and `spam = 1`.\n",
    "\n",
    "We will also look at the probabilities of the prediction with `predict_proba` method. The higher the probability, the more confident the model feels the prediction belongs to that class."
   ]
  },
  {
   "cell_type": "code",
   "execution_count": 11,
   "id": "982cb2be",
   "metadata": {},
   "outputs": [],
   "source": [
    "# Predict predictions\n",
    "y_pred = mnb.predict(X_test_vec)\n",
    "y_proba = mnb.predict_proba(X_test_vec)[:, 1]"
   ]
  },
  {
   "cell_type": "markdown",
   "id": "77bc2542",
   "metadata": {},
   "source": [
    "We check the performance of our classifier with the following metrics:"
   ]
  },
  {
   "cell_type": "code",
   "execution_count": 12,
   "id": "7b42380a",
   "metadata": {},
   "outputs": [
    {
     "name": "stdout",
     "output_type": "stream",
     "text": [
      "Accuracy: 0.962\n",
      "Precision: 1.000\n",
      "Recall: 0.735\n",
      "F1-score: 0.847\n",
      "AUC: 0.989\n"
     ]
    }
   ],
   "source": [
    "# Get MultinomialNB performance\n",
    "from sklearn.metrics import (accuracy_score, precision_score, \n",
    "        recall_score, f1_score, auc, roc_curve)\n",
    "\n",
    "accuracy = accuracy_score(y_test, y_pred)\n",
    "precision = precision_score(y_test, y_pred)\n",
    "recall = recall_score(y_test, y_pred)\n",
    "f1 = f1_score(y_test, y_pred)\n",
    "fpr, tpr, thresholds = roc_curve(y_test, y_proba, pos_label=1)\n",
    "roc_auc = auc(fpr, tpr)\n",
    "\n",
    "print(f\"Accuracy: {accuracy:.3f}\")\n",
    "print(f\"Precision: {precision:.3f}\")\n",
    "print(f\"Recall: {recall:.3f}\")\n",
    "print(f\"F1-score: {f1:.3f}\")\n",
    "print(f\"AUC: {roc_auc:.3f}\")"
   ]
  },
  {
   "cell_type": "code",
   "execution_count": 13,
   "id": "5bf7e4b4",
   "metadata": {},
   "outputs": [
    {
     "data": {
      "image/png": "[encoded data removed]",
      "text/plain": [
       "<Figure size 640x480 with 1 Axes>"
      ]
     },
     "metadata": {},
     "output_type": "display_data"
    }
   ],
   "source": [
    "# Plot the ROC Curve\n",
    "import matplotlib.pyplot as plt\n",
    "\n",
    "plt.plot(fpr, tpr, label=f'ROC curve (area = {roc_auc:0.3f})')\n",
    "plt.plot([0, 1], [0, 1], 'o--', label='ROC curve (area = 0.500)') \n",
    "plt.fill_between(fpr, tpr, color=\"blue\", alpha=0.15)\n",
    "plt.xlabel('False Positive Rate')\n",
    "plt.ylabel('True Positive Rate')\n",
    "plt.title('MultinomialNB ROC Curve')\n",
    "plt.legend(loc=\"lower right\")\n",
    "plt.show()"
   ]
  },
  {
   "cell_type": "markdown",
   "id": "8af9f73d",
   "metadata": {},
   "source": [
    "We can see that over 98 percent is under the ROC curve. The other metrics are also looking good. So the Naive Bayes classifier does a good job. Let's save the bits we will need for our web application and store the metrics in a dictionary:"
   ]
  },
  {
   "cell_type": "code",
   "execution_count": 14,
   "id": "18aa9a75",
   "metadata": {},
   "outputs": [],
   "source": [
    "# Save a pickle files\n",
    "\n",
    "import pickle\n",
    "    \n",
    "with open('vectorizer_nb.pkl', 'wb') as file:\n",
    "    pickle.dump(vectorizer_nb, file, pickle.HIGHEST_PROTOCOL)\n",
    "    \n",
    "with open('mnb.pkl', 'wb') as file:\n",
    "    pickle.dump(mnb, file, pickle.HIGHEST_PROTOCOL)"
   ]
  },
  {
   "cell_type": "code",
   "execution_count": 15,
   "id": "94e3b3f1",
   "metadata": {},
   "outputs": [],
   "source": [
    "# Save metrics in dictionary\n",
    "\n",
    "dic = {\n",
    "    'Naive Bayes': {},\n",
    "    'Neural Network': {}\n",
    "}\n",
    "\n",
    "dic['Naive Bayes']['Accuracy'] = accuracy\n",
    "dic['Naive Bayes']['Precision'] = precision\n",
    "dic['Naive Bayes']['Recall'] = recall\n",
    "dic['Naive Bayes']['F1'] = f1\n",
    "dic['Naive Bayes']['AUC'] = roc_auc"
   ]
  },
  {
   "cell_type": "markdown",
   "id": "3319009b",
   "metadata": {},
   "source": [
    "### 3. Neural Network Classifier"
   ]
  },
  {
   "cell_type": "markdown",
   "id": "b2bdeaeb",
   "metadata": {},
   "source": [
    "In this section, we will use the Keras API to create a NN classifier. Although less interpretable, a neural network is able to learn complex pattern between the input and output. \n",
    "\n",
    "Let's import the necessary libraries:"
   ]
  },
  {
   "cell_type": "code",
   "execution_count": 16,
   "id": "35136b46",
   "metadata": {},
   "outputs": [],
   "source": [
    "import numpy as np\n",
    "import tensorflow as tf\n",
    "from keras.models import Sequential\n",
    "from keras.layers import Dense, Activation\n",
    "from keras.utils import to_categorical\n",
    "from keras.callbacks import EarlyStopping\n",
    "from sklearn.feature_extraction.text import CountVectorizer"
   ]
  },
  {
   "cell_type": "markdown",
   "id": "26e4e1e2",
   "metadata": {},
   "source": [
    "Let's process the input data in a way acceptable to the Keras:"
   ]
  },
  {
   "cell_type": "code",
   "execution_count": 17,
   "id": "69fb5d27",
   "metadata": {},
   "outputs": [],
   "source": [
    "# Vectorize the input X data\n",
    "vectorizer_nn = CountVectorizer()\n",
    "vectorizer_nn.fit(X_train)\n",
    "X_train_vec = vectorizer_nn.transform(X_train)\n",
    "X_test_vec = vectorizer_nn.transform(X_test)\n",
    "\n",
    "# Transform to a sparse matrix\n",
    "X_train_nn = X_train_vec.toarray()\n",
    "X_test_nn = X_test_vec.toarray()\n",
    "\n",
    "# Categorize the target data\n",
    "y_train_nn = to_categorical(y_train)\n",
    "y_test_nn = to_categorical(y_test)"
   ]
  },
  {
   "cell_type": "markdown",
   "id": "89c0930d",
   "metadata": {},
   "source": [
    "We will create a neural network achitecture and train the model:"
   ]
  },
  {
   "cell_type": "code",
   "execution_count": 18,
   "id": "834c88c0",
   "metadata": {},
   "outputs": [
    {
     "name": "stdout",
     "output_type": "stream",
     "text": [
      "Model: \"sequential\"\n",
      "_________________________________________________________________\n",
      " Layer (type)                Output Shape              Param #   \n",
      "=================================================================\n",
      " dense (Dense)               (None, 16)                98880     \n",
      "                                                                 \n",
      " activation (Activation)     (None, 16)                0         \n",
      "                                                                 \n",
      " dense_1 (Dense)             (None, 2)                 34        \n",
      "                                                                 \n",
      " activation_1 (Activation)   (None, 2)                 0         \n",
      "                                                                 \n",
      "=================================================================\n",
      "Total params: 98,914\n",
      "Trainable params: 98,914\n",
      "Non-trainable params: 0\n",
      "_________________________________________________________________\n"
     ]
    }
   ],
   "source": [
    "model = Sequential(\n",
    "    [\n",
    "        Dense(16, input_dim=X_train_nn.shape[1]),\n",
    "        Activation('relu'),\n",
    "        Dense(2),\n",
    "        Activation('softmax')\n",
    "    ]\n",
    ")\n",
    "\n",
    "# Show model achitecture\n",
    "model.summary()"
   ]
  },
  {
   "cell_type": "code",
   "execution_count": 19,
   "id": "d20823d1",
   "metadata": {
    "scrolled": false
   },
   "outputs": [
    {
     "name": "stdout",
     "output_type": "stream",
     "text": [
      "Epoch 1/50\n",
      "98/98 [==============================] - 2s 8ms/step - loss: 0.4673 - accuracy: 0.9170 - val_loss: 0.2602 - val_accuracy: 0.9731\n",
      "Epoch 2/50\n",
      "98/98 [==============================] - 0s 5ms/step - loss: 0.1596 - accuracy: 0.9779 - val_loss: 0.1176 - val_accuracy: 0.9821\n",
      "Epoch 3/50\n",
      "98/98 [==============================] - 1s 6ms/step - loss: 0.0700 - accuracy: 0.9885 - val_loss: 0.0840 - val_accuracy: 0.9833\n",
      "Epoch 4/50\n",
      "98/98 [==============================] - 1s 7ms/step - loss: 0.0399 - accuracy: 0.9936 - val_loss: 0.0731 - val_accuracy: 0.9833\n",
      "Epoch 5/50\n",
      "98/98 [==============================] - 0s 5ms/step - loss: 0.0255 - accuracy: 0.9958 - val_loss: 0.0688 - val_accuracy: 0.9846\n",
      "Epoch 6/50\n",
      "98/98 [==============================] - 0s 5ms/step - loss: 0.0175 - accuracy: 0.9971 - val_loss: 0.0676 - val_accuracy: 0.9846\n",
      "Epoch 7/50\n",
      "98/98 [==============================] - 0s 5ms/step - loss: 0.0127 - accuracy: 0.9984 - val_loss: 0.0683 - val_accuracy: 0.9833\n",
      "Epoch 8/50\n",
      "98/98 [==============================] - 1s 6ms/step - loss: 0.0095 - accuracy: 0.9987 - val_loss: 0.0691 - val_accuracy: 0.9833\n",
      "Epoch 9/50\n",
      "98/98 [==============================] - 0s 5ms/step - loss: 0.0075 - accuracy: 0.9994 - val_loss: 0.0710 - val_accuracy: 0.9833\n",
      "Epoch 9: early stopping\n"
     ]
    }
   ],
   "source": [
    "# Fit the model\n",
    "model.compile(loss='categorical_crossentropy', optimizer='adam', metrics=['accuracy'])\n",
    "\n",
    "# Set early stopping callback\n",
    "earlystop = EarlyStopping(monitor='val_loss', patience=3, verbose=1, mode='auto')\n",
    "\n",
    "# Train the model\n",
    "history = model.fit(\n",
    "    X_train_nn, y_train_nn, epochs=50, batch_size=32, \n",
    "    validation_split=0.2, callbacks=[earlystop]\n",
    ")"
   ]
  },
  {
   "cell_type": "code",
   "execution_count": 20,
   "id": "cd0522c0",
   "metadata": {
    "scrolled": false
   },
   "outputs": [
    {
     "data": {
      "image/png": "[encoded data removed]",
      "text/plain": [
       "<Figure size 640x480 with 1 Axes>"
      ]
     },
     "metadata": {},
     "output_type": "display_data"
    }
   ],
   "source": [
    "train_acc = history.history['accuracy']\n",
    "valid_acc = history.history['val_accuracy']\n",
    "x_range = range(1, len(history.history['accuracy']) + 1)\n",
    "\n",
    "plt.plot(x_range, train_acc, label='train-acc')\n",
    "plt.plot(x_range, valid_acc, label='valid-acc')\n",
    "plt.fill_between(x_range, train_acc, valid_acc, color=\"blue\", alpha=0.15)\n",
    "plt.xlabel(\"epochs\")\n",
    "plt.ylabel(\"accuracy\")\n",
    "plt.title(\"Train and Valid Accuracies plot\")\n",
    "plt.legend()\n",
    "plt.tight_layout()\n",
    "plt.show()"
   ]
  },
  {
   "cell_type": "markdown",
   "id": "834f8f16",
   "metadata": {},
   "source": [
    "We can see that earlystopping made the model not to overfit the train set. Training was stopped before this could happen. Let save the bit that we will need for our web app before making predictions and estimating the performance:"
   ]
  },
  {
   "cell_type": "code",
   "execution_count": 21,
   "id": "81acc32f",
   "metadata": {},
   "outputs": [],
   "source": [
    "# Save vectorize and NN model\n",
    "with open('vectorizer_nn.pkl', 'wb') as file:\n",
    "    pickle.dump(vectorizer_nn, file, pickle.HIGHEST_PROTOCOL)\n",
    "    \n",
    "model.save('nn_classifier.h5')"
   ]
  },
  {
   "cell_type": "code",
   "execution_count": 22,
   "id": "a7eafdd4",
   "metadata": {},
   "outputs": [
    {
     "name": "stdout",
     "output_type": "stream",
     "text": [
      "53/53 [==============================] - 0s 4ms/step\n"
     ]
    }
   ],
   "source": [
    "# Make predictions with NN classifier\n",
    "y_pred_proba_nn = model.predict(X_test_nn)\n",
    "y_pred_nn = np.argmax(y_pred_proba_nn, axis=1)"
   ]
  },
  {
   "cell_type": "code",
   "execution_count": 23,
   "id": "d92e9b90",
   "metadata": {},
   "outputs": [
    {
     "name": "stdout",
     "output_type": "stream",
     "text": [
      "Accuracy: 0.983\n",
      "Precision: 0.991\n",
      "Recall: 0.887\n",
      "F1-score: 0.936\n",
      "AUC: 0.989\n"
     ]
    }
   ],
   "source": [
    "# Calculate metrics\n",
    "\n",
    "accuracy = accuracy_score(np.argmax(y_test_nn, axis=1), y_pred_nn)\n",
    "precision = precision_score(np.argmax(y_test_nn, axis=1), y_pred_nn)\n",
    "recall = recall_score(np.argmax(y_test_nn, axis=1), y_pred_nn)\n",
    "f1 = f1_score(np.argmax(y_test_nn, axis=1), y_pred_nn)\n",
    "fpr, tpr, thresholds = roc_curve(y_test_nn[:, 1], y_pred_proba_nn[:, 1])\n",
    "roc_auc = auc(fpr, tpr)\n",
    "\n",
    "print(f\"Accuracy: {accuracy:.3f}\")\n",
    "print(f\"Precision: {precision:.3f}\")\n",
    "print(f\"Recall: {recall:.3f}\")\n",
    "print(f\"F1-score: {f1:.3f}\")\n",
    "print(f\"AUC: {roc_auc:.3f}\")"
   ]
  },
  {
   "cell_type": "code",
   "execution_count": 24,
   "id": "643602aa",
   "metadata": {},
   "outputs": [
    {
     "data": {
      "image/png": "[encoded data removed]",
      "text/plain": [
       "<Figure size 640x480 with 1 Axes>"
      ]
     },
     "metadata": {},
     "output_type": "display_data"
    }
   ],
   "source": [
    "# plot the ROC curve\n",
    "\n",
    "plt.plot(fpr, tpr, label=f'ROC curve (area = {roc_auc:0.3f})')\n",
    "plt.plot([0, 1], [0, 1], 'o--', label='ROC curve (area = 0.500)') \n",
    "plt.fill_between(fpr, tpr, color=\"blue\", alpha=0.15)\n",
    "plt.xlabel('False Positive Rate')\n",
    "plt.ylabel('True Positive Rate')\n",
    "plt.title('Nueral Network ROC Curve')\n",
    "plt.legend(loc=\"lower right\")\n",
    "plt.show()"
   ]
  },
  {
   "cell_type": "code",
   "execution_count": 25,
   "id": "a27a9f1a",
   "metadata": {},
   "outputs": [],
   "source": [
    "# Save metrics in dictionary\n",
    "\n",
    "dic['Neural Network']['Accuracy'] = accuracy\n",
    "dic['Neural Network']['Precision'] = precision\n",
    "dic['Neural Network']['Recall'] = recall\n",
    "dic['Neural Network']['F1'] = f1\n",
    "dic['Neural Network']['AUC'] = roc_auc"
   ]
  },
  {
   "cell_type": "code",
   "execution_count": 26,
   "id": "9b1d1da4",
   "metadata": {
    "scrolled": true
   },
   "outputs": [
    {
     "data": {
      "text/html": [
       "<div>\n",
       "<style scoped>\n",
       "    .dataframe tbody tr th:only-of-type {\n",
       "        vertical-align: middle;\n",
       "    }\n",
       "\n",
       "    .dataframe tbody tr th {\n",
       "        vertical-align: top;\n",
       "    }\n",
       "\n",
       "    .dataframe thead th {\n",
       "        text-align: right;\n",
       "    }\n",
       "</style>\n",
       "<table border=\"1\" class=\"dataframe\">\n",
       "  <thead>\n",
       "    <tr style=\"text-align: right;\">\n",
       "      <th></th>\n",
       "      <th>Naive Bayes</th>\n",
       "      <th>Neural Network</th>\n",
       "    </tr>\n",
       "  </thead>\n",
       "  <tbody>\n",
       "    <tr>\n",
       "      <th>Accuracy</th>\n",
       "      <td>0.962321</td>\n",
       "      <td>0.982656</td>\n",
       "    </tr>\n",
       "    <tr>\n",
       "      <th>Precision</th>\n",
       "      <td>1.000000</td>\n",
       "      <td>0.990610</td>\n",
       "    </tr>\n",
       "    <tr>\n",
       "      <th>Recall</th>\n",
       "      <td>0.735294</td>\n",
       "      <td>0.886555</td>\n",
       "    </tr>\n",
       "    <tr>\n",
       "      <th>F1</th>\n",
       "      <td>0.847458</td>\n",
       "      <td>0.935698</td>\n",
       "    </tr>\n",
       "    <tr>\n",
       "      <th>AUC</th>\n",
       "      <td>0.988514</td>\n",
       "      <td>0.988945</td>\n",
       "    </tr>\n",
       "  </tbody>\n",
       "</table>\n",
       "</div>"
      ],
      "text/plain": [
       "           Naive Bayes  Neural Network\n",
       "Accuracy      0.962321        0.982656\n",
       "Precision     1.000000        0.990610\n",
       "Recall        0.735294        0.886555\n",
       "F1            0.847458        0.935698\n",
       "AUC           0.988514        0.988945"
      ]
     },
     "execution_count": 26,
     "metadata": {},
     "output_type": "execute_result"
    }
   ],
   "source": [
    "# Show the metrics of NaiveBayes and Neural network\n",
    "\n",
    "pd.DataFrame(dic)"
   ]
  },
  {
   "cell_type": "markdown",
   "id": "dedd38f0",
   "metadata": {},
   "source": [
    "We can see that overall, the Neural Network classifer performs better than the Naive Bayes classifier"
   ]
  },
  {
   "cell_type": "markdown",
   "id": "505bc66b",
   "metadata": {},
   "source": [
    "### 4. Build the web app"
   ]
  },
  {
   "cell_type": "markdown",
   "id": "7df4f2e0",
   "metadata": {},
   "source": [
    "We shall buld the web app in the `web_app.py` module. To run the web app:\n",
    "- Ensure that you have saved all the relevant `pickle` and `.h5` files\n",
    "- Ensure that these files are in the same directory as the `web_app.py`\n",
    "- Go to this directory in your command line terminal and run: `streamlit run web_app.py` to start the web app"
   ]
  },
  {
   "cell_type": "code",
   "execution_count": null,
   "id": "e163d298",
   "metadata": {},
   "outputs": [],
   "source": [
    "!streamlit run web_app.py"
   ]
  }
 ],
 "metadata": {
  "kernelspec": {
   "display_name": "Python 3 (ipykernel)",
   "language": "python",
   "name": "python3"
  },
  "language_info": {
   "codemirror_mode": {
    "name": "ipython",
    "version": 3
   },
   "file_extension": ".py",
   "mimetype": "text/x-python",
   "name": "python",
   "nbconvert_exporter": "python",
   "pygments_lexer": "ipython3",
   "version": "3.9.13"
  }
 },
 "nbformat": 4,
 "nbformat_minor": 5
}
